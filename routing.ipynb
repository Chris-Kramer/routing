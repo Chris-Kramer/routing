{
 "cells": [
  {
   "cell_type": "markdown",
   "id": "517a2e17",
   "metadata": {},
   "source": [
    "# Integer Linear Programming for Data Science"
   ]
  },
  {
   "cell_type": "markdown",
   "id": "a9c70efd",
   "metadata": {},
   "source": [
    "In my humble opinion Integer Linear Programming (ILP) is a critically under rated tool for data scientist. Rather than only looking at problems from a predictive (machine learning) or descriptive (statistics) perspective, this tool allows us look at a problem from a presciptive postion and actually propose optimal solutions. In this little notebook, I want to showcase how Integer Linear Programming, can be used to solve real world problems. "
   ]
  },
  {
   "cell_type": "markdown",
   "id": "79d8c489",
   "metadata": {},
   "source": [
    "## What is ILP?"
   ]
  },
  {
   "cell_type": "markdown",
   "id": "98039fa7",
   "metadata": {},
   "source": [
    "Note, that this is not a comprehensive introduction, but just a quick primer. In short, ILP is a method for proposing the optimal solution for a problem. This problem takes the form of   $Ax \\leq b$ where $A$ is a $m × n$ matrix, $x$ is a $n × 1$ matrix, and b is a $m × 1$  and where the solution only contains integers.\n",
    "matrix  \n",
    "\n",
    "Here is a simple example. Let us assume that we have a factory, which can produce cheese and milk.  \n",
    "Let us name cheese $x_1$ and let us name milk $x_2$.  \n",
    "Suppose that we make 12\\$ for each unit cheese and 10\\$ for each unit of milk. Our aim is, to maximize our profit. This can be represented mathematically like so:    \n",
    "\n",
    "$$max \\  12x_1 + 10x_2$$    \n",
    "\n",
    "This is called the *objective function*. This function can take many forms but generally we either seek to maximize or to minimize a *linear* function.   \n",
    "\n",
    "Since we don't have unlimited ressources, we have to set up the limits for our solution. In this case we are using the same machines for milk and cheese, and the machines have limits to how many units it can produce, which is setup like so:\n",
    "\n",
    "$$x_1 \\leq 20$$\n",
    "$$x_2 \\leq 20$$\n",
    "$$x_1 + x_2 \\leq 30$$  \n",
    "\n",
    "These are called *constraints* and they tell us, that we can produce a maximum of 20 units of cheese, a maximium of 20 units of milk and a combined maximum of 30 units total.  "
   ]
  },
  {
   "cell_type": "markdown",
   "id": "98123c5b",
   "metadata": {},
   "source": [
    "## Solving ILP"
   ]
  },
  {
   "cell_type": "markdown",
   "id": "f5d4ece9",
   "metadata": {},
   "source": [
    "Our full ILP model from previous looks like this:  \n",
    "\n",
    "$$max \\  12x_1 + 10x_2$$   \n",
    "\n",
    "<p style=\"text-align: center;\">Subject to</p>  \n",
    "\n",
    "$$x_1 \\leq 20$$\n",
    "$$x_2 \\leq 20$$\n",
    "$$x_1 + x_2 \\leq 30$$  \n",
    "\n",
    "Now in our case, it is simple to solve this with quick calculations, we must produce 20 units of cheese and 10 units of milk.  \n",
    "\n",
    "But assume there are 100s of 1000s of variables. In this case we use a solver or heuristics I will not dive in to have solvers work under the hood. But solvers come with the exact solution and employ methods such as the *simplex algorithm*, *branch and bound*, *interior point algorithm*, and *duality*, these provide the mathematically best possible solution, but struggle with computational complexity on large problems. Heuristics are algorithms, which provides solutions with lower computational complexity, but solutions that are *near* optimal rather than optimal.  "
   ]
  },
  {
   "cell_type": "markdown",
   "id": "bb84a532",
   "metadata": {},
   "source": [
    "# Defibrillator Routing Problem"
   ]
  },
  {
   "cell_type": "markdown",
   "id": "4dbc9209",
   "metadata": {},
   "source": [
    "In this problem we have a bunch a defibrillators that needs to be visited in order to replace their spare parts."
   ]
  },
  {
   "cell_type": "code",
   "execution_count": null,
   "id": "5d63892e",
   "metadata": {},
   "outputs": [],
   "source": [
    "import geopandas as gpd\n",
    "import plotly.express as px\n",
    "import plotly.graph_objects as go\n",
    "import pandas as pd\n",
    "import plotly.io as pio\n",
    "\n",
    "\n",
    "geo_df = gpd.read_file(\"https://naturalearth.s3.amazonaws.com/10m_cultural/ne_10m_admin_0_countries.zip\")\n",
    "denmark_df = geo_df[geo_df[\"ADMIN\"] == \"Denmark\"]\n",
    "lands  = gpd.read_file(\"https://naturalearth.s3.amazonaws.com/10m_physical/ne_10m_minor_islands.zip\")\n",
    "denmark_land = gpd.overlay(denmark_df, lands, how='intersection')\n",
    "\n",
    "oceans  = gpd.read_file(\"https://naturalearth.s3.amazonaws.com/10m_physical/ne_10m_ocean.zip\")\n",
    "lakes_and_rivers = gpd.read_file(\"https://naturalearth.s3.amazonaws.com/10m_physical/ne_10m_rivers_lake_centerlines.zip\")\n",
    "\n",
    "\n",
    "denmark_land = gpd.overlay(denmark_df, lakes_and_rivers, how='difference')\n",
    "denmark_land = gpd.overlay(denmark_df, oceans, how='difference')\n"
   ]
  },
  {
   "cell_type": "code",
   "execution_count": null,
   "id": "84ced56e",
   "metadata": {},
   "outputs": [
    {
     "data": {
      "text/html": [
       "<iframe\n",
       "    scrolling=\"no\"\n",
       "    width=\"820px\"\n",
       "    height=\"1220\"\n",
       "    src=\"iframe_figures/figure_3.html\"\n",
       "    frameborder=\"0\"\n",
       "    allowfullscreen\n",
       "></iframe>\n"
      ]
     },
     "metadata": {},
     "output_type": "display_data"
    }
   ],
   "source": [
    "pio.renderers.default = 'iframe'\n",
    "\n",
    "point_count = 250\n",
    "multipoints = denmark_df.sample_points(size=point_count)\n",
    "points = multipoints.explode()\n",
    "points_df = points.get_coordinates()\n",
    "coords = points.get_coordinates()\n",
    "\n",
    "\n",
    "fig = px.scatter_map(coords,\n",
    "                    lon = \"x\",\n",
    "                    lat = \"y\",\n",
    "                    width = 800,\n",
    "                    height = 1200,\n",
    "                    zoom=6)\n",
    "\n",
    "\n",
    "fig.add_trace(go.Scattermap(\n",
    "    lat = [56.4614070],\n",
    "    lon =  [10.0371070],\n",
    "    mode='markers',\n",
    "    marker=dict(\n",
    "        size=12,\n",
    "        color='rgb(0, 0, 0)',\n",
    "        opacity=1\n",
    "        ),\n",
    "    name = \"Depot\"\n",
    "    ))\n",
    "\n",
    "\n",
    "fixed_points = pd.DataFrame({\n",
    "    \"x\": [10.2039, 10.8029, 12.5683, 14.6927, 11.39553],  # longitudes\n",
    "    \"y\": [56.1629, 55.3104, 55.6761, 55.1037, 55.4037],  # latitudes\n",
    "    \"city\": [\"Aarhus\", \"Nyborg\", \"Copenhagen\", \"Rønne\", \"Slagelse\"]\n",
    "})\n",
    "\n",
    "fig.add_trace(go.Scattermap(\n",
    "    lat = fixed_points[\"y\"],\n",
    "    lon =  fixed_points[\"x\"],\n",
    "    mode='markers',\n",
    "    marker=dict(\n",
    "        size=12,\n",
    "        color='rgb(250, 0, 0)',\n",
    "        opacity=1\n",
    "        ),\n",
    "    name = \"Travel Points\"\n",
    "    ))\n",
    "\n",
    "\n",
    "fig.show()\n"
   ]
  }
 ],
 "metadata": {
  "kernelspec": {
   "display_name": ".venv",
   "language": "python",
   "name": "python3"
  },
  "language_info": {
   "codemirror_mode": {
    "name": "ipython",
    "version": 3
   },
   "file_extension": ".py",
   "mimetype": "text/x-python",
   "name": "python",
   "nbconvert_exporter": "python",
   "pygments_lexer": "ipython3",
   "version": "3.12.5"
  }
 },
 "nbformat": 4,
 "nbformat_minor": 5
}
